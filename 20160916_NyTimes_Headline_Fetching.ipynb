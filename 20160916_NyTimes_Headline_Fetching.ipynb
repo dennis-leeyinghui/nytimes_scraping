{
 "cells": [
  {
   "cell_type": "code",
   "execution_count": null,
   "metadata": {
    "collapsed": true
   },
   "outputs": [],
   "source": [
    "#Tutorial from http://www.practicepython.org/exercise/2014/06/06/17-decode-a-web-page.html"
   ]
  },
  {
   "cell_type": "code",
   "execution_count": null,
   "metadata": {
    "collapsed": false
   },
   "outputs": [],
   "source": [
    "import requests\n",
    "from bs4 import BeautifulSoup\n",
    "\n",
    "url = \"http://www.nytimes.com/\"\n",
    "r = requests.get(url)\n",
    "r_html = r.text\n",
    "\n",
    "soup = BeautifulSoup(r_html)\n",
    "\n",
    "for story_heading in soup.find_all(class_='story-heading'):\n",
    "    if story_heading.a:\n",
    "        print (story_heading.a.text.replace(\"\\n\", \" \").strip() + '\\n')\n",
    "    else :\n",
    "        print (story_heading.contents[0].strip() + '\\n')\n"
   ]
  },
  {
   "cell_type": "code",
   "execution_count": null,
   "metadata": {
    "collapsed": true
   },
   "outputs": [],
   "source": [
    "# fetching Headlines from Appliedaily.hk"
   ]
  },
  {
   "cell_type": "code",
   "execution_count": null,
   "metadata": {
    "collapsed": false
   },
   "outputs": [],
   "source": [
    "import requests\n",
    "from bs4 import BeautifulSoup\n",
    "from ipywidgets import Image\n",
    "from IPython.core.display import Image, display\n",
    "\n",
    "\n",
    "url = \"http://www.bbc.com/news\"\n",
    "r = requests.get(url)\n",
    "r_html = r.text\n",
    "\n",
    "soup = BeautifulSoup(r_html)\n",
    "soup_h3 = (soup.findAll('h3', limit=9))\n",
    "\n",
    "\n",
    "#for title_link in soup.findAll(class_='title-link__title'):\n",
    "#    print (title_link.contents[0].strip)\n",
    "\n",
    "\n",
    "#print (soup(\"h3\",class_=\"title-link__title\", limit=3).next_sibling)\n",
    "i = 1\n",
    "\n",
    "for h3s in (soup_h3):\n",
    "        \n",
    "        length_h3 = (str(i) + \">> \" + h3s.span.contents[0].strip())\n",
    "        \n",
    "        print (\"*\" * len(length_h3))\n",
    "        print (length_h3)\n",
    "        \n",
    "        if i == 1:\n",
    "            for header_image in soup.findAll(class_='js-image-replace'):\n",
    "                header_image_url = header_image['src']\n",
    "                # print (header_image_url)\n",
    "                display(Image(header_image_url))\n",
    "                #Image(value=requests.get(header_image_url).content)\n",
    "        i += 1\n",
    "      \n"
   ]
  },
  {
   "cell_type": "code",
   "execution_count": null,
   "metadata": {
    "collapsed": false,
    "scrolled": true
   },
   "outputs": [],
   "source": [
    "#Extract the attribute within a tag\n",
    "# print (xxx['src'])\n",
    "# extract the IMG SRC link to a photo\n",
    "\n",
    "import requests\n",
    "from bs4 import BeautifulSoup\n",
    "\n",
    "request_url = requests.get(\"http://www.bbc.com/news\")\n",
    "request_html = request_url.text\n",
    "soup = BeautifulSoup(request_html)\n",
    "\n",
    "for srcs in (soup(class_='js-image-replace')):\n",
    "    print (srcs['src'])\n",
    "\n",
    "#Image(value=requests.get('https://octodex.github.com/images/yaktocat.png').content)"
   ]
  },
  {
   "cell_type": "code",
   "execution_count": null,
   "metadata": {
    "collapsed": false
   },
   "outputs": [],
   "source": [
    "\n",
    ", width=1900, unconfined=True))"
   ]
  },
  {
   "cell_type": "code",
   "execution_count": null,
   "metadata": {
    "collapsed": true
   },
   "outputs": [],
   "source": []
  }
 ],
 "metadata": {
  "anaconda-cloud": {},
  "kernelspec": {
   "display_name": "Python [Root]",
   "language": "python",
   "name": "Python [Root]"
  },
  "language_info": {
   "codemirror_mode": {
    "name": "ipython",
    "version": 3
   },
   "file_extension": ".py",
   "mimetype": "text/x-python",
   "name": "python",
   "nbconvert_exporter": "python",
   "pygments_lexer": "ipython3",
   "version": "3.5.2"
  }
 },
 "nbformat": 4,
 "nbformat_minor": 0
}
